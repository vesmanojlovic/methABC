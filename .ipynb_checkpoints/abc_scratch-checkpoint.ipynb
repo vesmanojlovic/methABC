{
 "cells": [
  {
   "cell_type": "code",
   "execution_count": 2,
   "id": "dd1cb0ce-8f7e-423f-b3c9-5fd5b94aad52",
   "metadata": {},
   "outputs": [],
   "source": [
    "import pandas as pd\n",
    "import numpy as np\n",
    "from scipy.stats import wasserstein_distance\n",
    "import os"
   ]
  },
  {
   "cell_type": "code",
   "execution_count": 3,
   "id": "3163a1e7-9f4c-4a7b-9954-aed6146ea630",
   "metadata": {},
   "outputs": [],
   "source": [
    "data_dir = \"/Users/vmanojlovic/Documents/Coding/Methylation_Data/data_sifted/\"\n",
    "sims_dir = \"/not/yet/done/\""
   ]
  },
  {
   "cell_type": "markdown",
   "id": "7c7b2c8e-af4f-47b0-bd56-0057888a3e3d",
   "metadata": {},
   "source": [
    "Post-processing functions:"
   ]
  },
  {
   "cell_type": "code",
   "execution_count": 9,
   "id": "d0b0362f-6e57-45f0-91b0-1deb9fe35206",
   "metadata": {},
   "outputs": [],
   "source": [
    "def load_data(filename):\n",
    "    data = pd.read_csv(filename)\n",
    "    return data\n",
    "\n",
    "def load_sim(filename):\n",
    "    sim = pd.read_csv(filename)\n",
    "    return sim\n",
    "\n",
    "def distance(sim, data):\n",
    "    return wasserstein_distance(sim, data)"
   ]
  },
  {
   "cell_type": "markdown",
   "id": "4c918e81-bf3e-4177-ae11-07b723e99820",
   "metadata": {},
   "source": [
    "Iterate over each sim and data set, calculate distance, create matrix of Wasserstein distances:"
   ]
  },
  {
   "cell_type": "code",
   "execution_count": null,
   "id": "1552ce75-1caf-4594-8341-bad44a69884e",
   "metadata": {},
   "outputs": [],
   "source": [
    "simulation_files = os.listdir(sims_dir)\n",
    "\n",
    "wass_matrix = list()\n",
    "for simulation_file in simulation_files:\n",
    "    simulation_path = os.path.join(simulation_folder, simulation_file)\n",
    "    simulation_data = load_data(simulation_path)\n",
    "    tmp = []\n",
    "    for data_file in data_files:\n",
    "        data_path = os.path.join(data_folder, data_file)\n",
    "        data_set = load_data(data_path)\n",
    "        \n",
    "        tmp.append(calculate_wasserstein_distance(simulation_data, data_set))\n",
    "    wass_matrix.append(tmp)"
   ]
  }
 ],
 "metadata": {
  "kernelspec": {
   "display_name": "meth-abc",
   "language": "python",
   "name": "meth-abc"
  },
  "language_info": {
   "codemirror_mode": {
    "name": "ipython",
    "version": 3
   },
   "file_extension": ".py",
   "mimetype": "text/x-python",
   "name": "python",
   "nbconvert_exporter": "python",
   "pygments_lexer": "ipython3",
   "version": "3.11.3"
  }
 },
 "nbformat": 4,
 "nbformat_minor": 5
}
