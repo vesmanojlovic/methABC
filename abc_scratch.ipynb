{
 "cells": [
  {
   "cell_type": "markdown",
   "id": "da774591",
   "metadata": {},
   "source": [
    "# ABC for FMC agent-based modelling in demon/warlock"
   ]
  },
  {
   "cell_type": "markdown",
   "id": "67af9476",
   "metadata": {},
   "source": [
    "## Procedure\n",
    "1) Sample a parameter set $\\theta$ from the prior\n",
    "2) Sample a random seed $r$ for the simulation\n",
    "3) Run the model until the generation limit is reached\n",
    "4) Repeat from step 2 until the number of simulated glands is the same as in the data\n",
    "5) Compute wasserstein distances $W(X, X')$ of the simulations to the observed data averaged over all glands\n",
    "6) If $W(X, X') < \\epsilon$, accept $\\theta$ as a sample from the posterior distribution\n",
    "7) Go to 1"
   ]
  },
  {
   "cell_type": "code",
   "execution_count": 2,
   "id": "dd1cb0ce-8f7e-423f-b3c9-5fd5b94aad52",
   "metadata": {},
   "outputs": [],
   "source": [
    "import numpy as np\n",
    "import os\n",
    "import pandas as pd\n",
    "import subprocess\n",
    "\n",
    "from scipy.stats import wasserstein_distance"
   ]
  },
  {
   "cell_type": "code",
   "execution_count": 1,
   "id": "3163a1e7-9f4c-4a7b-9954-aed6146ea630",
   "metadata": {},
   "outputs": [],
   "source": [
    "data_dir = \"/Users/vesheljinn/Documents/github_repos/methABC/data/crc_with_healthy_labels/\"\n",
    "sims_dir = \"/Users/vesheljinn/Documents/github_repos/methABC/data/sims/\""
   ]
  },
  {
   "cell_type": "code",
   "execution_count": 3,
   "id": "64f4c0d6-7c26-4953-816f-3564440205f7",
   "metadata": {},
   "outputs": [],
   "source": [
    "def run_sim(config_file_path, warlockdir):\n",
    "    command = ['bash', 'warlock.sh', '-c', config_file_path, '-e', 'local']\n",
    "    subprocess.run(command, cwd=warlockdir)"
   ]
  },
  {
   "cell_type": "markdown",
   "id": "7c7b2c8e-af4f-47b0-bd56-0057888a3e3d",
   "metadata": {},
   "source": [
    "Post-processing functions:"
   ]
  },
  {
   "cell_type": "code",
   "execution_count": 4,
   "id": "d0b0362f-6e57-45f0-91b0-1deb9fe35206",
   "metadata": {},
   "outputs": [],
   "source": [
    "def load_data(filename):\n",
    "    data = pd.read_csv(filename)\n",
    "    return data\n",
    "\n",
    "def load_sim(filename):\n",
    "    sim = pd.read_csv(filename)\n",
    "    return sim\n",
    "\n",
    "def distance(sim, data):\n",
    "    return wasserstein_distance(sim, data)"
   ]
  },
  {
   "cell_type": "markdown",
   "id": "4c918e81-bf3e-4177-ae11-07b723e99820",
   "metadata": {},
   "source": [
    "Iterate over each sim and data set, calculate distance, create matrix of Wasserstein distances:"
   ]
  },
  {
   "cell_type": "code",
   "execution_count": 5,
   "id": "a941fe2a-6662-4786-b35d-b8d3c807d83b",
   "metadata": {},
   "outputs": [],
   "source": [
    "def get_priors():\n",
    "    mu = np.random.uniform(0.00001, 0.001)\n",
    "    s = np.random.uniform(0, 0.4)\n",
    "    return mu, s\n",
    "\n",
    "def edit_param_file(oldfilepath, newfilepath):\n",
    "    with open(oldfilepath, 'r') as file:\n",
    "        data = yaml.safe_load(file)\n",
    "    priors = get_priors()\n",
    "    data['demon_mu_driver_birth'] = priors[0]\n",
    "    data['demon_s_driver_birth'] = priors[1]\n",
    "\n",
    "    with open(newfilepath, 'w') as file:\n",
    "        yaml.dump(data, file)\n",
    "    return"
   ]
  },
  {
   "cell_type": "code",
   "execution_count": null,
   "id": "1552ce75-1caf-4594-8341-bad44a69884e",
   "metadata": {},
   "outputs": [],
   "source": [
    "simulation_files = os.listdir(sims_dir)\n",
    "\n",
    "wass_matrix = list()\n",
    "for simulation_file in simulation_files:\n",
    "    simulation_path = os.path.join(sims_dir, simulation_file)\n",
    "    simulation_data = load_data(simulation_path)\n",
    "    tmp = []\n",
    "    for data_file in data_files:\n",
    "        data_path = os.path.join(data_dir, data_file)\n",
    "        data_set = load_data(data_path)\n",
    "        \n",
    "        tmp.append(distance(simulation_data, data_set))\n",
    "    wass_matrix.append(tmp)"
   ]
  }
 ],
 "metadata": {
  "kernelspec": {
   "display_name": "methabc",
   "language": "python",
   "name": "python3"
  },
  "language_info": {
   "codemirror_mode": {
    "name": "ipython",
    "version": 3
   },
   "file_extension": ".py",
   "mimetype": "text/x-python",
   "name": "python",
   "nbconvert_exporter": "python",
   "pygments_lexer": "ipython3",
   "version": "3.10.4"
  }
 },
 "nbformat": 4,
 "nbformat_minor": 5
}
