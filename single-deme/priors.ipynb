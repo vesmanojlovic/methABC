{
 "cells": [
  {
   "cell_type": "code",
   "execution_count": 1,
   "id": "873e4c21-1e62-483c-8ed9-b35bf92eed01",
   "metadata": {},
   "outputs": [],
   "source": [
    "import numpy as np\n",
    "import yaml"
   ]
  },
  {
   "cell_type": "code",
   "execution_count": 2,
   "id": "eb644e09-f420-468c-913b-d9b029bed667",
   "metadata": {},
   "outputs": [],
   "source": [
    "def get_priors():\n",
    "    mu = np.random.uniform(0.00001, 0.001)\n",
    "    s = np.random.uniform(0, 0.4)\n",
    "    return mu, s\n",
    "\n",
    "def edit_param_file(oldfilepath, newfilepath):\n",
    "    with open(oldfilepath, 'r') as file:\n",
    "        data = yaml.safe_load(file)\n",
    "    priors = get_priors()\n",
    "    data['demon_mu_driver_birth'] = priors[0]\n",
    "    data['demon_s_driver_birth'] = priors[1]\n",
    "\n",
    "    with open(newfilepath, 'w') as file:\n",
    "        yaml.dump(data, file)\n",
    "    return"
   ]
  }
 ],
 "metadata": {
  "kernelspec": {
   "display_name": "methabc",
   "language": "python",
   "name": "methabc"
  },
  "language_info": {
   "codemirror_mode": {
    "name": "ipython",
    "version": 3
   },
   "file_extension": ".py",
   "mimetype": "text/x-python",
   "name": "python",
   "nbconvert_exporter": "python",
   "pygments_lexer": "ipython3",
   "version": "3.10.4"
  }
 },
 "nbformat": 4,
 "nbformat_minor": 5
}
