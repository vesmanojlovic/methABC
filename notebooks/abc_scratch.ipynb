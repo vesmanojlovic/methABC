{
 "cells": [
  {
   "cell_type": "markdown",
   "id": "da774591",
   "metadata": {},
   "source": [
    "# ABC for FMC agent-based modelling in demon/warlock"
   ]
  },
  {
   "cell_type": "markdown",
   "id": "67af9476",
   "metadata": {},
   "source": [
    "## Procedure\n",
    "1) Sample a parameter set $\\theta$ from the prior\n",
    "2) Sample a random seed $r$ for the simulation\n",
    "3) Run the model until the generation limit is reached\n",
    "4) Repeat from step 2 until the number of simulated glands is the same as in the data\n",
    "5) Compute wasserstein distances $W(X, X')$ of the simulations to the observed data averaged over all glands\n",
    "6) If $W(X, X') < \\epsilon$, accept $\\theta$ as a sample from the posterior distribution\n",
    "7) Go to 1"
   ]
  },
  {
   "cell_type": "code",
   "execution_count": null,
   "id": "dd1cb0ce-8f7e-423f-b3c9-5fd5b94aad52",
   "metadata": {},
   "outputs": [],
   "source": [
    "import numpy as np\n",
    "import os\n",
    "import pandas as pd\n",
    "import subprocess\n",
    "import matplotlib.pyplot as plt\n",
    "import pyabc\n",
    "import pyabc.external"
   ]
  },
  {
   "cell_type": "code",
   "execution_count": null,
   "id": "53ad2963",
   "metadata": {},
   "outputs": [],
   "source": [
    "# If you haven't already, run the following command to generate the data:\n",
    "!../resources/methdemon/bin/methdemon ../data/synthetic_tumour_1 config.dat"
   ]
  },
  {
   "cell_type": "code",
   "execution_count": null,
   "id": "cbbb2e35",
   "metadata": {},
   "outputs": [],
   "source": [
    "# synthetic tumour - relevant data file\n",
    "\n",
    "sim_output = \"../simulations/outputs1/demes.dat\"\n",
    "# set path to the methdemon binary\n",
    "path_bin = \"../resources/methdemon/bin/methdemon\"\n",
    "\n",
    "# set path to the config file\n",
    "path_config = \"../simulations/outputs1/config.dat\"\n",
    "\n",
    "# set output dir\n",
    "output_dir = \"../simulations/outputs1\""
   ]
  },
  {
   "cell_type": "code",
   "execution_count": null,
   "id": "6be80c36",
   "metadata": {},
   "outputs": [],
   "source": []
  }
 ],
 "metadata": {
  "kernelspec": {
   "display_name": "methabc",
   "language": "python",
   "name": "python3"
  },
  "language_info": {
   "codemirror_mode": {
    "name": "ipython",
    "version": 3
   },
   "file_extension": ".py",
   "mimetype": "text/x-python",
   "name": "python",
   "nbconvert_exporter": "python",
   "pygments_lexer": "ipython3",
   "version": "3.10.4"
  }
 },
 "nbformat": 4,
 "nbformat_minor": 5
}
