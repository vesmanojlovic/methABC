{
 "cells": [
  {
   "cell_type": "markdown",
   "metadata": {},
   "source": [
    "# Visualisation of the simulation\n",
    "This notebook provides graphical representations of the simulated tumour, the glands which are selected for \"sequencing\", and the methylation array histograms and correlation plots. "
   ]
  },
  {
   "cell_type": "code",
   "execution_count": null,
   "metadata": {},
   "outputs": [],
   "source": [
    "import numpy as np\n",
    "import matplotlib.pyplot as plt\n",
    "import pandas as pd\n",
    "import seaborn as sns"
   ]
  },
  {
   "cell_type": "code",
   "execution_count": null,
   "metadata": {},
   "outputs": [],
   "source": [
    "# Define relative paths to output files\n",
    "outputs_path = '../data/synthetic_tumour_1/'\n",
    "methylation_file = 'output_methylation_arrays.dat'\n",
    "demes_file = 'output_deme_methylation.dat'"
   ]
  },
  {
   "cell_type": "code",
   "execution_count": null,
   "metadata": {},
   "outputs": [],
   "source": [
    "# Read in the output files\n",
    "methylation = pd.read_csv(outputs_path + methylation_file, sep='\\t')\n",
    "demes = pd.read_csv(outputs_path + demes_file, sep='\\t')\n",
    "carrying_capacity = demes.Population.max() - 1\n",
    "filled_demes = demes[demes['Population'] == carrying_capacity]"
   ]
  },
  {
   "cell_type": "code",
   "execution_count": null,
   "metadata": {},
   "outputs": [],
   "source": [
    "filled_demes.shape"
   ]
  },
  {
   "cell_type": "code",
   "execution_count": null,
   "metadata": {},
   "outputs": [],
   "source": [
    "# Separate the demes methylation array strings into lists of floats\n",
    "deme_arrays = filled_demes.AverageArray.apply(lambda x: [float(i) for i in x.split()])"
   ]
  },
  {
   "cell_type": "code",
   "execution_count": null,
   "metadata": {},
   "outputs": [],
   "source": [
    "# Plot a randomly selected deme's methylation array\n",
    "# Randomly select deme to plot\n",
    "deme = np.random.randint(0, len(deme_arrays))\n",
    "# Plot the deme's methylation histogram\n",
    "plt.hist(deme_arrays.iloc[deme], bins=50)\n",
    "plt.title('Deme ' + str(deme) + ' methylation array')"
   ]
  },
  {
   "cell_type": "code",
   "execution_count": null,
   "metadata": {},
   "outputs": [],
   "source": [
    "# Set origin coordinates in the middle of the tumour\n",
    "xorigin = filled_demes.X.median()\n",
    "yorigin = filled_demes.Y.median()"
   ]
  },
  {
   "cell_type": "code",
   "execution_count": null,
   "metadata": {},
   "outputs": [],
   "source": [
    "# Separate tumour into left and right sides\n",
    "left_glands = filled_demes[filled_demes['X'] < xorigin].sort_values(by='Y')\n",
    "right_glands = filled_demes[filled_demes['X'] >= yorigin].sort_values(by='Y')"
   ]
  },
  {
   "cell_type": "code",
   "execution_count": null,
   "metadata": {},
   "outputs": [],
   "source": [
    "def select_demes(demes):\n",
    "    # Determine the edge X values\n",
    "    min_x = demes['X'].min()\n",
    "    max_x = demes['X'].max()\n",
    "\n",
    "    # Filter demes based on proximity to the edge X values\n",
    "    left_demes = demes[demes['X'] <= min_x + 10]\n",
    "    right_demes = demes[demes['X'] >= max_x - 10]\n",
    "\n",
    "    # Sort these demes based on their population in descending order\n",
    "    left_demes_sorted = left_demes.sort_values(by='Population', ascending=False)\n",
    "    right_demes_sorted = right_demes.sort_values(by='Population', ascending=False)\n",
    "\n",
    "    # Select the top 4 demes from each side\n",
    "    left_selection = left_demes_sorted.head(4)\n",
    "    right_selection = right_demes_sorted.head(4)\n",
    "\n",
    "    return left_selection, right_selection"
   ]
  },
  {
   "cell_type": "code",
   "execution_count": null,
   "metadata": {},
   "outputs": [],
   "source": [
    "left_selection, right_selection = select_demes(demes)"
   ]
  },
  {
   "cell_type": "code",
   "execution_count": null,
   "metadata": {},
   "outputs": [],
   "source": [
    "left_arrays = left_selection.AverageArray.apply(lambda x: [float(i) for i in x.split()])\n",
    "right_arrays = right_selection.AverageArray.apply(lambda x: [float(i) for i in x.split()])"
   ]
  },
  {
   "cell_type": "code",
   "execution_count": null,
   "metadata": {},
   "outputs": [],
   "source": [
    "def plot_demes(demes, left_selection, right_selection):\n",
    "    min_population = demes['Population'].min()\n",
    "    max_population = demes['Population'].max()\n",
    "\n",
    "    # Plot all demes in greyscale based on population\n",
    "    scatter = plt.scatter(demes['X'], demes['Y'], c=demes['Population'], cmap='gray_r', s=100, label='All Demes', vmin=min_population, vmax=max_population)\n",
    "    \n",
    "    # Highlight the selected demes\n",
    "    plt.scatter(left_selection['X'], left_selection['Y'], color='blue', edgecolors='white', s=150, label='Left Selection')\n",
    "    plt.scatter(right_selection['X'], right_selection['Y'], color='red', edgecolors='white', s=150, label='Right Selection')\n",
    "    \n",
    "    plt.xlabel('X')\n",
    "    plt.ylabel('Y')\n",
    "    plt.title('Sampled glands')\n",
    "    # plt.grid(True)\n",
    "    plt.colorbar(scatter, label='Population')  # Use the scatter plot object for the colorbar\n",
    "    plt.show()"
   ]
  },
  {
   "cell_type": "code",
   "execution_count": null,
   "metadata": {},
   "outputs": [],
   "source": [
    "plot_demes(demes, left_selection, right_selection)"
   ]
  },
  {
   "cell_type": "code",
   "execution_count": null,
   "metadata": {},
   "outputs": [],
   "source": [
    "# Plot the methylation arrays of the selected demes on the same histogram with left glands being in a blue colour palette and right glands in orange\n",
    "plt.figure(figsize=(10, 5))\n",
    "for i in range(len(left_arrays)):\n",
    "    plt.hist(left_arrays.iloc[i], bins=50, color='blue', alpha=0.5)\n",
    "    plt.hist(right_arrays.iloc[i], bins=50, color='orange', alpha=0.5)"
   ]
  },
  {
   "cell_type": "code",
   "execution_count": null,
   "metadata": {},
   "outputs": [],
   "source": [
    "left_arrays = left_arrays.reset_index(drop=True)\n",
    "right_arrays = right_arrays.reset_index(drop=True)\n",
    "all_samples = pd.concat([left_arrays, right_arrays], axis=0)"
   ]
  },
  {
   "cell_type": "code",
   "execution_count": null,
   "metadata": {},
   "outputs": [],
   "source": [
    "# Correlation plots for each two sampled demes\n",
    "\n",
    "num_samples = 8\n",
    "fig, axes = plt.subplots(num_samples, num_samples, figsize=(15, 15))\n",
    "\n",
    "for i in range(num_samples):\n",
    "    for j in range(num_samples):\n",
    "        if j > i:  # plot above the diagonal\n",
    "            sns.scatterplot(data=all_samples, x=all_samples.iloc[i], y=all_samples.iloc[j], ax=axes[i, j])\n",
    "        else:\n",
    "            axes[i, j].set_axis_off()  # Turn off axes for other plots\n",
    "\n",
    "plt.tight_layout()\n",
    "plt.show()"
   ]
  },
  {
   "cell_type": "code",
   "execution_count": null,
   "metadata": {},
   "outputs": [],
   "source": []
  }
 ],
 "metadata": {
  "kernelspec": {
   "display_name": "methdemon_examples",
   "language": "python",
   "name": "python3"
  },
  "language_info": {
   "codemirror_mode": {
    "name": "ipython",
    "version": 3
   },
   "file_extension": ".py",
   "mimetype": "text/x-python",
   "name": "python",
   "nbconvert_exporter": "python",
   "pygments_lexer": "ipython3",
   "version": "3.10.4"
  },
  "orig_nbformat": 4
 },
 "nbformat": 4,
 "nbformat_minor": 2
}
